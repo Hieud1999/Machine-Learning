{
 "cells": [
  {
   "cell_type": "code",
   "execution_count": 1,
   "metadata": {},
   "outputs": [
    {
     "data": {
      "text/plain": [
       "birthday (generic function with 1 method)"
      ]
     },
     "execution_count": 1,
     "metadata": {},
     "output_type": "execute_result"
    }
   ],
   "source": [
    "function birthday(times::Int)\n",
    "    res = 0\n",
    "\tfor t = 1:times\n",
    "\t\tmonths= rand(1:12, 20)\n",
    "\t\tcount = [sum(months .== i) for i = 1:12]\n",
    "\t\tres += sum(count .== 2) == 4 && sum(count .== 3) == 4\n",
    "\tend\n",
    "\tres / times\n",
    "end"
   ]
  },
  {
   "cell_type": "code",
   "execution_count": 4,
   "metadata": {},
   "outputs": [],
   "source": [
    "using StaticArrays"
   ]
  },
  {
   "cell_type": "code",
   "execution_count": 6,
   "metadata": {},
   "outputs": [
    {
     "data": {
      "text/plain": [
       "birthday (generic function with 1 method)"
      ]
     },
     "execution_count": 6,
     "metadata": {},
     "output_type": "execute_result"
    }
   ],
   "source": [
    "function birthday(times::Int)\n",
    "    res = 0\n",
    "\tfor t = 1:times\n",
    "\t\tmonths = @SVector [rand(1:12) for i = 1:20]\n",
    "\t\tcount = @SVector [sum(months .== i) for i = 1:12]\n",
    "\t\tres += sum(count .== 2) == 4 && sum(count .== 3) == 4\n",
    "\tend\n",
    "\tres / times\n",
    "end"
   ]
  },
  {
   "cell_type": "code",
   "execution_count": 7,
   "metadata": {},
   "outputs": [
    {
     "name": "stdout",
     "output_type": "stream",
     "text": [
      "  0.246038 seconds (8 allocations: 19.547 KiB)\n"
     ]
    },
    {
     "data": {
      "text/plain": [
       "0.001124"
      ]
     },
     "execution_count": 7,
     "metadata": {},
     "output_type": "execute_result"
    }
   ],
   "source": [
    "@time birthday(1000000)"
   ]
  },
  {
   "cell_type": "code",
   "execution_count": 10,
   "metadata": {},
   "outputs": [],
   "source": [
    "using FLoops"
   ]
  },
  {
   "cell_type": "code",
   "execution_count": 16,
   "metadata": {},
   "outputs": [
    {
     "data": {
      "text/plain": [
       "birthday (generic function with 2 methods)"
      ]
     },
     "execution_count": 16,
     "metadata": {},
     "output_type": "execute_result"
    }
   ],
   "source": [
    "function birthday(times::Int, cores = 4)\n",
    "    res = 0\n",
    "    @floop ThreadedEx(basesize = times ÷ cores) for _ in 1:times\n",
    "\t\tmonths = @SVector [rand(1:12) for i = 1:20]\n",
    "\t\tcount = @SVector [sum(months .== i) for i = 1:12]\n",
    "\t\tsuccess = sum(count .== 2) == 4 && sum(count .== 3) == 4\n",
    "        @reduce(res += success)\n",
    "\tend\n",
    "\tres / times\n",
    "end"
   ]
  },
  {
   "cell_type": "code",
   "execution_count": 19,
   "metadata": {},
   "outputs": [
    {
     "name": "stdout",
     "output_type": "stream",
     "text": [
      "  7.923553 seconds (184 allocations: 9.141 KiB)\n"
     ]
    },
    {
     "data": {
      "text/plain": [
       "0.00106033"
      ]
     },
     "execution_count": 19,
     "metadata": {},
     "output_type": "execute_result"
    }
   ],
   "source": [
    "@time birthday(100_000_000)"
   ]
  },
  {
   "cell_type": "code",
   "execution_count": null,
   "metadata": {},
   "outputs": [],
   "source": []
  }
 ],
 "metadata": {
  "kernelspec": {
   "display_name": "Julia (4 threads) 1.5.2",
   "language": "julia",
   "name": "julia-(4-threads)-1.5"
  },
  "language_info": {
   "file_extension": ".jl",
   "mimetype": "application/julia",
   "name": "julia",
   "version": "1.5.2"
  }
 },
 "nbformat": 4,
 "nbformat_minor": 4
}
