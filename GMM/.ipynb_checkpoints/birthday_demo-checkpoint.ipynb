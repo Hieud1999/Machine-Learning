{
 "cells": [
  {
   "cell_type": "code",
   "execution_count": 1,
   "metadata": {},
   "outputs": [
    {
     "data": {
      "text/plain": [
       "birthday (generic function with 1 method)"
      ]
     },
     "execution_count": 1,
     "metadata": {},
     "output_type": "execute_result"
    }
   ],
   "source": [
    "function birthday(times::Int)\n",
    "    res = 0\n",
    "\tfor t = 1:times\n",
    "\t\tmonths = months = rand(1:12, 20)\n",
    "\t\tcount = [sum(months .== i) for i = 1:12]\n",
    "\t\tres += sum(count .== 2) == 4 && sum(count .== 3) == 4\n",
    "\tend\n",
    "\tres / times\n",
    "end"
   ]
  },
  {
   "cell_type": "code",
   "execution_count": null,
   "metadata": {},
   "outputs": [],
   "source": [
    "@time birthday(1000000)"
   ]
  }
 ],
 "metadata": {
  "kernelspec": {
   "display_name": "Julia (4 threads) 1.5.2",
   "language": "julia",
   "name": "julia-(4-threads)-1.5"
  },
  "language_info": {
   "file_extension": ".jl",
   "mimetype": "application/julia",
   "name": "julia",
   "version": "1.5.2"
  }
 },
 "nbformat": 4,
 "nbformat_minor": 4
}
